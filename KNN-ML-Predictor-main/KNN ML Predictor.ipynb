{
 "cells": [
  {
   "cell_type": "code",
   "execution_count": null,
   "metadata": {},
   "outputs": [],
   "source": []
  },
  {
   "cell_type": "markdown",
   "metadata": {},
   "source": [
    "## Question 1"
   ]
  },
  {
   "cell_type": "code",
   "execution_count": 2,
   "metadata": {},
   "outputs": [],
   "source": [
    "import pandas as pd\n",
    "import numpy as np\n",
    "from math import sqrt\n",
    "from scipy.stats import mode"
   ]
  },
  {
   "cell_type": "code",
   "execution_count": 5,
   "metadata": {},
   "outputs": [
    {
     "data": {
      "text/html": [
       "<div>\n",
       "<style scoped>\n",
       "    .dataframe tbody tr th:only-of-type {\n",
       "        vertical-align: middle;\n",
       "    }\n",
       "\n",
       "    .dataframe tbody tr th {\n",
       "        vertical-align: top;\n",
       "    }\n",
       "\n",
       "    .dataframe thead th {\n",
       "        text-align: right;\n",
       "    }\n",
       "</style>\n",
       "<table border=\"1\" class=\"dataframe\">\n",
       "  <thead>\n",
       "    <tr style=\"text-align: right;\">\n",
       "      <th></th>\n",
       "      <th>0</th>\n",
       "    </tr>\n",
       "  </thead>\n",
       "  <tbody>\n",
       "    <tr>\n",
       "      <th>0</th>\n",
       "      <td>0</td>\n",
       "    </tr>\n",
       "    <tr>\n",
       "      <th>1</th>\n",
       "      <td>0</td>\n",
       "    </tr>\n",
       "    <tr>\n",
       "      <th>2</th>\n",
       "      <td>0</td>\n",
       "    </tr>\n",
       "    <tr>\n",
       "      <th>3</th>\n",
       "      <td>0</td>\n",
       "    </tr>\n",
       "    <tr>\n",
       "      <th>4</th>\n",
       "      <td>0</td>\n",
       "    </tr>\n",
       "    <tr>\n",
       "      <th>...</th>\n",
       "      <td>...</td>\n",
       "    </tr>\n",
       "    <tr>\n",
       "      <th>1995</th>\n",
       "      <td>9</td>\n",
       "    </tr>\n",
       "    <tr>\n",
       "      <th>1996</th>\n",
       "      <td>9</td>\n",
       "    </tr>\n",
       "    <tr>\n",
       "      <th>1997</th>\n",
       "      <td>9</td>\n",
       "    </tr>\n",
       "    <tr>\n",
       "      <th>1998</th>\n",
       "      <td>9</td>\n",
       "    </tr>\n",
       "    <tr>\n",
       "      <th>1999</th>\n",
       "      <td>9</td>\n",
       "    </tr>\n",
       "  </tbody>\n",
       "</table>\n",
       "<p>2000 rows × 1 columns</p>\n",
       "</div>"
      ],
      "text/plain": [
       "      0\n",
       "0     0\n",
       "1     0\n",
       "2     0\n",
       "3     0\n",
       "4     0\n",
       "...  ..\n",
       "1995  9\n",
       "1996  9\n",
       "1997  9\n",
       "1998  9\n",
       "1999  9\n",
       "\n",
       "[2000 rows x 1 columns]"
      ]
     },
     "execution_count": 5,
     "metadata": {},
     "output_type": "execute_result"
    }
   ],
   "source": [
    "train = open(\"pa1train.txt\",\"r\")\n",
    "X_train = []\n",
    "y_train = []\n",
    "for line in train.readlines():\n",
    "    vec = line.split(' ')\n",
    "    X_train.append(vec[:-1])\n",
    "    y_train.append(vec[-1][0])\n",
    "X_train = pd.DataFrame(X_train)\n",
    "y_train = pd.DataFrame(y_train)\n",
    "X_train\n",
    "y_train"
   ]
  },
  {
   "cell_type": "code",
   "execution_count": 174,
   "metadata": {},
   "outputs": [],
   "source": [
    "val = open(\"pa1validate.txt\",\"r\")\n",
    "X_val = []\n",
    "y_val = []\n",
    "for line in val.readlines():\n",
    "    vec = line.split(' ')\n",
    "    X_val.append(vec[:-1])\n",
    "    y_val.append(vec[-1][0])\n",
    "X_val = pd.DataFrame(X_val)\n",
    "y_val = pd.DataFrame(y_val)"
   ]
  },
  {
   "cell_type": "code",
   "execution_count": 175,
   "metadata": {},
   "outputs": [],
   "source": [
    "test = open('pa1test.txt', 'r')\n",
    "X_test = []\n",
    "y_test = []\n",
    "for line in test.readlines():\n",
    "    vec = line.split(' ')\n",
    "    X_test.append(vec[:-1])\n",
    "    y_test.append(vec[-1][0])\n",
    "    \n",
    "X_test = pd.DataFrame(X_test)\n",
    "y_test = pd.DataFrame(y_test)"
   ]
  },
  {
   "cell_type": "code",
   "execution_count": 176,
   "metadata": {},
   "outputs": [],
   "source": [
    "def euclidean_distance(row1, row2):\n",
    "    distance = 0.0\n",
    "    \n",
    "    distance = np.linalg.norm(row1 - row2)\n",
    "    \n",
    "    \n",
    "    return distance\n",
    "   \n",
    "    "
   ]
  },
  {
   "cell_type": "code",
   "execution_count": 177,
   "metadata": {},
   "outputs": [
    {
     "name": "stdout",
     "output_type": "stream",
     "text": [
      "     0   1   2   3   4   5   6   7   8   9    ... 774 775 776 777 778 779 780  \\\n",
      "0      0   0   0   0   0   0   0   0   0   0  ...   0   0   0   0   0   0   0   \n",
      "1      0   0   0   0   0   0   0   0   0   0  ...   0   0   0   0   0   0   0   \n",
      "2      0   0   0   0   0   0   0   0   0   0  ...   0   0   0   0   0   0   0   \n",
      "3      0   0   0   0   0   0   0   0   0   0  ...   0   0   0   0   0   0   0   \n",
      "4      0   0   0   0   0   0   0   0   0   0  ...   0   0   0   0   0   0   0   \n",
      "...   ..  ..  ..  ..  ..  ..  ..  ..  ..  ..  ...  ..  ..  ..  ..  ..  ..  ..   \n",
      "1995   0   0   0   0   0   0   0   0   0   0  ...   0   0   0   0   0   0   0   \n",
      "1996   0   0   0   0   0   0   0   0   0   0  ...   0   0   0   0   0   0   0   \n",
      "1997   0   0   0   0   0   0   0   0   0   0  ...   0   0   0   0   0   0   0   \n",
      "1998   0   0   0   0   0   0   0   0   0   0  ...   0   0   0   0   0   0   0   \n",
      "1999   0   0   0   0   0   0   0   0   0   0  ...   0   0   0   0   0   0   0   \n",
      "\n",
      "     781 782 783  \n",
      "0      0   0   0  \n",
      "1      0   0   0  \n",
      "2      0   0   0  \n",
      "3      0   0   0  \n",
      "4      0   0   0  \n",
      "...   ..  ..  ..  \n",
      "1995   0   0   0  \n",
      "1996   0   0   0  \n",
      "1997   0   0   0  \n",
      "1998   0   0   0  \n",
      "1999   0   0   0  \n",
      "\n",
      "[2000 rows x 784 columns]\n"
     ]
    },
    {
     "data": {
      "text/html": [
       "<div>\n",
       "<style scoped>\n",
       "    .dataframe tbody tr th:only-of-type {\n",
       "        vertical-align: middle;\n",
       "    }\n",
       "\n",
       "    .dataframe tbody tr th {\n",
       "        vertical-align: top;\n",
       "    }\n",
       "\n",
       "    .dataframe thead th {\n",
       "        text-align: right;\n",
       "    }\n",
       "</style>\n",
       "<table border=\"1\" class=\"dataframe\">\n",
       "  <thead>\n",
       "    <tr style=\"text-align: right;\">\n",
       "      <th></th>\n",
       "      <th>0</th>\n",
       "    </tr>\n",
       "  </thead>\n",
       "  <tbody>\n",
       "    <tr>\n",
       "      <th>0</th>\n",
       "      <td>0</td>\n",
       "    </tr>\n",
       "    <tr>\n",
       "      <th>1</th>\n",
       "      <td>0</td>\n",
       "    </tr>\n",
       "    <tr>\n",
       "      <th>2</th>\n",
       "      <td>0</td>\n",
       "    </tr>\n",
       "    <tr>\n",
       "      <th>3</th>\n",
       "      <td>0</td>\n",
       "    </tr>\n",
       "    <tr>\n",
       "      <th>4</th>\n",
       "      <td>0</td>\n",
       "    </tr>\n",
       "    <tr>\n",
       "      <th>...</th>\n",
       "      <td>...</td>\n",
       "    </tr>\n",
       "    <tr>\n",
       "      <th>1995</th>\n",
       "      <td>9</td>\n",
       "    </tr>\n",
       "    <tr>\n",
       "      <th>1996</th>\n",
       "      <td>9</td>\n",
       "    </tr>\n",
       "    <tr>\n",
       "      <th>1997</th>\n",
       "      <td>9</td>\n",
       "    </tr>\n",
       "    <tr>\n",
       "      <th>1998</th>\n",
       "      <td>9</td>\n",
       "    </tr>\n",
       "    <tr>\n",
       "      <th>1999</th>\n",
       "      <td>9</td>\n",
       "    </tr>\n",
       "  </tbody>\n",
       "</table>\n",
       "<p>2000 rows × 1 columns</p>\n",
       "</div>"
      ],
      "text/plain": [
       "      0\n",
       "0     0\n",
       "1     0\n",
       "2     0\n",
       "3     0\n",
       "4     0\n",
       "...  ..\n",
       "1995  9\n",
       "1996  9\n",
       "1997  9\n",
       "1998  9\n",
       "1999  9\n",
       "\n",
       "[2000 rows x 1 columns]"
      ]
     },
     "execution_count": 177,
     "metadata": {},
     "output_type": "execute_result"
    }
   ],
   "source": [
    "print(X_train)\n",
    "y_train"
   ]
  },
  {
   "cell_type": "code",
   "execution_count": 178,
   "metadata": {},
   "outputs": [],
   "source": [
    "#def convert_to_int(X_train, X_val, X_test):\n",
    "    #all values in the txt file are strings, must convert them to numerics, converting to\n",
    "    #int instead of float saves numerous space\n",
    "for i in X_train.columns:\n",
    "    X_train[i] = X_train[i].astype(int)\n",
    "for i in X_val.columns:\n",
    "    X_val[i] = X_val[i].astype(int)\n",
    "for i in X_test.columns:\n",
    "    X_test[i] = X_test[i].astype(int)\n",
    "   # return X_train, X_val, X_test\n",
    "    \n",
    "#convert_to_int(X_train, X_val, X_test)"
   ]
  },
  {
   "cell_type": "code",
   "execution_count": 179,
   "metadata": {},
   "outputs": [],
   "source": [
    "\n",
    "#def convert_tables_to_np(X_train,X_val,X_test, y_train,y_val,y_test):\n",
    "    #convert integer columns into numpy arrays, matrix manipulation drastically decreases\n",
    "    #run time, equalling far faster run time\n",
    "X_train = X_train.to_numpy()\n",
    "X_val = X_val.to_numpy()\n",
    "X_test = X_test.to_numpy()\n",
    "\n",
    "y_train = y_train.iloc[:, 0]\n",
    "y_train= y_train.to_numpy()\n",
    "y_val = y_val.iloc[:, 0]\n",
    "y_val= y_val.to_numpy()\n",
    "y_test = y_test.iloc[:, 0]\n",
    "y_test= y_test.to_numpy()\n",
    "  #  return X_train, X_val, X_test, y_train, y_val,y_test\n",
    "#convert_tables_to_np(X_train,X_val,X_test, y_train,y_val,y_test)"
   ]
  },
  {
   "cell_type": "code",
   "execution_count": null,
   "metadata": {},
   "outputs": [],
   "source": [
    "\n",
    "\n",
    "        "
   ]
  },
  {
   "cell_type": "code",
   "execution_count": 183,
   "metadata": {},
   "outputs": [],
   "source": [
    "def get_neighbors(training_data, potential_labels, input_data, k_amount):\n",
    "    arr_of_predicts = []\n",
    "    input_size = len(input_data)\n",
    "    training_size = len(training_data)\n",
    "    for i in range(input_size):\n",
    "        arr_of_dist = []\n",
    "        for j in range(training_size):\n",
    "            arr_of_dist.append((potential_labels[j], euclidean_distance(input_data[i], training_data[j])))\n",
    "        arr_of_dist.sort(key = lambda item: item[1])\n",
    "        k_closest_values = arr_of_dist[:k_amount]\n",
    "        actual_labels = []\n",
    "        for l in k_closest_values:\n",
    "            actual_labels.append(l[0])\n",
    "        arr_of_predicts.append(mode(actual_labels)[0][0])\n",
    "    arr_of_predicts = np.array(arr_of_predicts)\n",
    "    return arr_of_predicts\n",
    "        "
   ]
  },
  {
   "cell_type": "code",
   "execution_count": 181,
   "metadata": {},
   "outputs": [],
   "source": [
    "def NNs_pred(training_set, labels, x, k):\n",
    "    preds = []\n",
    "    for i in range(len(x)):\n",
    "        distances = []\n",
    "        for j in range(len(training_set)):\n",
    "            distances.append((labels[j], eucdist(x[i], training_set[j])))\n",
    "        distances.sort(key=lambda item: item[1])\n",
    "        distances = distances[:k]\n",
    "        labs = [x[0] for x in distances]\n",
    "        preds.append(mode(labs)[0][0])\n",
    "    return np.array(preds)"
   ]
  },
  {
   "cell_type": "code",
   "execution_count": 185,
   "metadata": {},
   "outputs": [
    {
     "data": {
      "text/plain": [
       "{1: 0.0, 3: 0.0435, 5: 0.0565, 9: 0.0685, 15: 0.0925}"
      ]
     },
     "execution_count": 185,
     "metadata": {},
     "output_type": "execute_result"
    }
   ],
   "source": [
    "train_data_errors = {}\n",
    "#dict will be easiest to show key: k amount and value error rate\n",
    "potential_k_values = [1,3,5,9,15]\n",
    "for i in potential_k_values:\n",
    "    train_data_errors[i] = np.mean(get_neighbors(X_train, y_train, X_train, i) != y_train)\n",
    "    \n",
    "train_data_errors"
   ]
  },
  {
   "cell_type": "code",
   "execution_count": 188,
   "metadata": {},
   "outputs": [
    {
     "data": {
      "text/plain": [
       "{1: 0.082, 3: 0.098, 5: 0.095, 9: 0.104, 15: 0.108}"
      ]
     },
     "execution_count": 188,
     "metadata": {},
     "output_type": "execute_result"
    }
   ],
   "source": [
    "val_data_errors = {}\n",
    "#dict will be easiest to show key: k amount and value error rate\n",
    "potential_k_values = [1,3,5,9,15]\n",
    "for i in potential_k_values:\n",
    "    val_data_errors[i] = np.mean(get_neighbors(X_train, y_train, X_val, i) != y_val)\n",
    "    \n",
    "val_data_errors"
   ]
  },
  {
   "cell_type": "code",
   "execution_count": 209,
   "metadata": {},
   "outputs": [
    {
     "data": {
      "text/html": [
       "<div>\n",
       "<style scoped>\n",
       "    .dataframe tbody tr th:only-of-type {\n",
       "        vertical-align: middle;\n",
       "    }\n",
       "\n",
       "    .dataframe tbody tr th {\n",
       "        vertical-align: top;\n",
       "    }\n",
       "\n",
       "    .dataframe thead th {\n",
       "        text-align: right;\n",
       "    }\n",
       "</style>\n",
       "<table border=\"1\" class=\"dataframe\">\n",
       "  <thead>\n",
       "    <tr style=\"text-align: right;\">\n",
       "      <th></th>\n",
       "      <th>K Classifier</th>\n",
       "      <th>Validate Errors</th>\n",
       "      <th>Train errors</th>\n",
       "    </tr>\n",
       "  </thead>\n",
       "  <tbody>\n",
       "    <tr>\n",
       "      <th>0</th>\n",
       "      <td>1</td>\n",
       "      <td>0.082</td>\n",
       "      <td>0.0000</td>\n",
       "    </tr>\n",
       "    <tr>\n",
       "      <th>1</th>\n",
       "      <td>3</td>\n",
       "      <td>0.098</td>\n",
       "      <td>0.0435</td>\n",
       "    </tr>\n",
       "    <tr>\n",
       "      <th>2</th>\n",
       "      <td>5</td>\n",
       "      <td>0.095</td>\n",
       "      <td>0.0565</td>\n",
       "    </tr>\n",
       "    <tr>\n",
       "      <th>3</th>\n",
       "      <td>9</td>\n",
       "      <td>0.104</td>\n",
       "      <td>0.0685</td>\n",
       "    </tr>\n",
       "    <tr>\n",
       "      <th>4</th>\n",
       "      <td>15</td>\n",
       "      <td>0.108</td>\n",
       "      <td>0.0925</td>\n",
       "    </tr>\n",
       "  </tbody>\n",
       "</table>\n",
       "</div>"
      ],
      "text/plain": [
       "   K Classifier  Validate Errors  Train errors\n",
       "0             1            0.082        0.0000\n",
       "1             3            0.098        0.0435\n",
       "2             5            0.095        0.0565\n",
       "3             9            0.104        0.0685\n",
       "4            15            0.108        0.0925"
      ]
     },
     "execution_count": 209,
     "metadata": {},
     "output_type": "execute_result"
    }
   ],
   "source": [
    "#Make data table of training data and validation errors\n",
    "error_df = pd.DataFrame(list(val_data_errors.items()),columns = ['K Classifier','Validate Errors'])\n",
    "\n",
    "error_df['Train errors'] = error_df['K Classifier'].map(train_data_errors) \n",
    "error_df"
   ]
  },
  {
   "cell_type": "code",
   "execution_count": 211,
   "metadata": {},
   "outputs": [
    {
     "data": {
      "text/plain": [
       "{1: 0.094, 3: 0.092, 5: 0.098, 9: 0.101, 15: 0.114}"
      ]
     },
     "execution_count": 211,
     "metadata": {},
     "output_type": "execute_result"
    }
   ],
   "source": [
    "test_data_errors = {}\n",
    "#dict will be easiest to show key: k amount and value error rate\n",
    "potential_k_values = [1,3,5,9,15]\n",
    "for i in potential_k_values:\n",
    "    test_data_errors[i] = np.mean(get_neighbors(X_train, y_train, X_test, i) != y_test)\n",
    "    \n",
    "test_data_errors"
   ]
  },
  {
   "cell_type": "markdown",
   "metadata": {},
   "source": [
    "The classifier with the lowest error on the validation data is the k parameter value of 1, which yields a test error of about 9.4%"
   ]
  },
  {
   "cell_type": "markdown",
   "metadata": {},
   "source": [
    "## Question 2\n"
   ]
  },
  {
   "cell_type": "code",
   "execution_count": 192,
   "metadata": {},
   "outputs": [],
   "source": [
    "projections = open('projection.txt', 'r')\n",
    "project_vector_arr = []\n",
    "#The data is just a text, must use this code to make it usable in numpy\n",
    "#used integers before because the float wasn't necessary and took \n",
    "#additional space, but float is necessary for analysis of vector multiplication\n",
    "for line in projections.readlines():\n",
    "    proj_vector = line.split(' ')\n",
    "    proj_vector[-1] = proj_vector[-1][:-1]\n",
    "    \n",
    "    proj_vector = np.array(proj_vector).astype(float)\n",
    "    project_vector_arr.append(proj_vector)"
   ]
  },
  {
   "cell_type": "code",
   "execution_count": 193,
   "metadata": {},
   "outputs": [],
   "source": [
    "project_train = np.matmul(X_train, project_vector_arr)\n",
    "#projection of vectors onto the column space can simply be\n",
    "#accomplished through vector multiplication, and efficiently \n",
    "#accomplished through the use of numpy arrays\n",
    "\n",
    "project_validate = np.matmul(X_val, project_vector_arr)\n",
    "\n",
    "project_test = np.matmul(X_test, project_vector_arr)"
   ]
  },
  {
   "cell_type": "code",
   "execution_count": 197,
   "metadata": {},
   "outputs": [
    {
     "data": {
      "text/plain": [
       "{1: 0.0, 3: 0.1605, 5: 0.1945, 9: 0.2305, 15: 0.257}"
      ]
     },
     "execution_count": 197,
     "metadata": {},
     "output_type": "execute_result"
    }
   ],
   "source": [
    "train_proj_errors = {}\n",
    "#dict will be easiest to show key: k amount and value error rate\n",
    "potential_k_values = [1,3,5,9,15]\n",
    "for i in potential_k_values:\n",
    "    train_proj_errors[i] = np.mean(get_neighbors(project_train, y_train, project_train, i) != y_train)\n",
    "    \n",
    "    \n",
    "train_proj_errors"
   ]
  },
  {
   "cell_type": "code",
   "execution_count": 198,
   "metadata": {},
   "outputs": [
    {
     "data": {
      "text/plain": [
       "{1: 0.32, 3: 0.31, 5: 0.299, 9: 0.302, 15: 0.289}"
      ]
     },
     "execution_count": 198,
     "metadata": {},
     "output_type": "execute_result"
    }
   ],
   "source": [
    "val_proj_errors = {}\n",
    "#dict will be easiest to show key: k amount and value error rate\n",
    "potential_k_values = [1,3,5,9,15]\n",
    "for i in potential_k_values:\n",
    "    val_proj_errors[i] = np.mean(get_neighbors(project_train, y_train, project_validate, i) != y_val)\n",
    "    \n",
    "val_proj_errors"
   ]
  },
  {
   "cell_type": "code",
   "execution_count": 210,
   "metadata": {},
   "outputs": [
    {
     "data": {
      "text/plain": [
       "{1: 0.314, 3: 0.297, 5: 0.301, 9: 0.293, 15: 0.296}"
      ]
     },
     "execution_count": 210,
     "metadata": {},
     "output_type": "execute_result"
    }
   ],
   "source": [
    "test_proj_errors = {}\n",
    "#dict will be easiest to show key: k amount and value error rate\n",
    "potential_k_values = [1,3,5,9,15]\n",
    "for i in potential_k_values:\n",
    "    test_proj_errors[i] = np.mean(get_neighbors(project_train, y_train, project_test, i) != y_test)\n",
    "    \n",
    "test_proj_errors"
   ]
  },
  {
   "cell_type": "markdown",
   "metadata": {},
   "source": [
    "By projecting the input data onto the column space of the matrix, the model is affected in several ways.  A notable feature is that the accuracy of the model is significantly lowered, and I'm honestly uncertain as to the source of this.  A significant improvement is that the runtime of the model has drastically improved.  I noticed that running the test errors before projection had a runtime of about 3 minutes, while post-projection had a runtime of about 1 minute and 30 seconds, a nearly 50% decrease."
   ]
  },
  {
   "cell_type": "code",
   "execution_count": null,
   "metadata": {},
   "outputs": [],
   "source": []
  }
 ],
 "metadata": {
  "kernelspec": {
   "display_name": "Python 3",
   "language": "python",
   "name": "python3"
  },
  "language_info": {
   "codemirror_mode": {
    "name": "ipython",
    "version": 3
   },
   "file_extension": ".py",
   "mimetype": "text/x-python",
   "name": "python",
   "nbconvert_exporter": "python",
   "pygments_lexer": "ipython3",
   "version": "3.7.6"
  }
 },
 "nbformat": 4,
 "nbformat_minor": 4
}
